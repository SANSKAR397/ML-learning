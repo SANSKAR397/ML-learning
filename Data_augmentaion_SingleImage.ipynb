{
  "nbformat": 4,
  "nbformat_minor": 0,
  "metadata": {
    "colab": {
      "provenance": []
    },
    "kernelspec": {
      "name": "python3",
      "display_name": "Python 3"
    },
    "language_info": {
      "name": "python"
    }
  },
  "cells": [
    {
      "cell_type": "code",
      "execution_count": 8,
      "metadata": {
        "id": "wEejSTw-OGJn"
      },
      "outputs": [],
      "source": [
        "import tensorflow as tf\n",
        "from tensorflow.keras.preprocessing.image import ImageDataGenerator\n",
        "from tensorflow.keras.models import Sequential\n",
        "from tensorflow.keras.layers import Conv2D, MaxPooling2D, Activation, Dropout, Flatten, Dense\n",
        "\n"
      ]
    },
    {
      "cell_type": "code",
      "source": [
        "img = image.load_img('/content/images.jpg',target_size = (200,200))"
      ],
      "metadata": {
        "id": "MjyEaeK7Og-b"
      },
      "execution_count": 9,
      "outputs": []
    },
    {
      "cell_type": "code",
      "source": [
        "datagen = ImageDataGenerator(\n",
        "    rotation_range = 30,\n",
        "    shear_range=0.2,\n",
        "    zoom_range=0.2,\n",
        "    horizontal_flip = True,                 # main class for data augmentaion has many features but only few applied for specific image\n",
        "    width_shift_range=0.2,\n",
        "    height_shift_range=0.2,\n",
        "    )"
      ],
      "metadata": {
        "id": "rcfZcBrIPTq4"
      },
      "execution_count": 11,
      "outputs": []
    },
    {
      "cell_type": "code",
      "source": [
        "img = image.img_to_array(img)"
      ],
      "metadata": {
        "id": "6gEmsdjLQdYh"
      },
      "execution_count": 12,
      "outputs": []
    },
    {
      "cell_type": "code",
      "source": [
        "input_batch = img.reshape(1,200,200,3)"
      ],
      "metadata": {
        "id": "LAGApUusQqcn"
      },
      "execution_count": 13,
      "outputs": []
    },
    {
      "cell_type": "code",
      "source": [
        "i =0\n",
        "for output in datagen.flow(input_batch , batch_size = 1 , save_to_dir ='/content/sample_data'): #flow is used single image flowdir for a whole directory\n",
        "                                                                                                # /content/sample_data = it should be the directory name where the data should be stored\n",
        "   i = i + 1\n",
        "   if i == 10:\n",
        "    break"
      ],
      "metadata": {
        "id": "0zujKx4TQxxv"
      },
      "execution_count": 17,
      "outputs": []
    }
  ]
}